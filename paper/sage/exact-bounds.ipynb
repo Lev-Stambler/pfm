{
 "cells": [
  {
   "cell_type": "code",
   "execution_count": 1,
   "metadata": {},
   "outputs": [
    {
     "data": {
      "text/plain": [
       "[u == 25*n^(3/2)*sqrt(p)*(-p + 1)^(3/2)*e^(-1/2*u^2)/(25*sqrt(2)*sqrt(pi)*K*sqrt(n)*sqrt(p)*(-p + 1)^(3/2) - 14*sqrt(2)*sqrt(pi)*n)]"
      ]
     },
     "execution_count": 1,
     "metadata": {},
     "output_type": "execute_result"
    }
   ],
   "source": [
    "## Find the exact bounds for \\alpha_i for a variance normalized (not mean) distr\n",
    "p, n, u, K = var('p, n, u, K')\n",
    "# TODO: FIX ME\n",
    "errorTerm = 0.56 / (sqrt(p) * (1-p) ^ (1.5) * sqrt(n))\n",
    "mean = 0#n*p / sqrt(p * (1 - p) * n)\n",
    "guassian = 1 / sqrt(2 * pi) * e ^ (-0.5 * (u - mean)^2)\n",
    "# eqSmaller = -errorTerm + (1/u + 1/u^3) * guassian <= K / n\n",
    "eqLarger = errorTerm + (1/u) * guassian == K / n\n",
    "((solve([eqLarger], u)))"
   ]
  },
  {
   "cell_type": "markdown",
   "metadata": {},
   "source": [
    "## The actual thing"
   ]
  },
  {
   "cell_type": "code",
   "execution_count": 2,
   "metadata": {},
   "outputs": [
    {
     "data": {
      "text/plain": [
       "[u == 25*sqrt(NTQ*NTS)*M*e^(-1/2*u^2)/(25*sqrt(2)*sqrt(pi)*sqrt(NTQ*NTS)*K - 14*sqrt(2)*sqrt(pi)*M)]"
      ]
     },
     "execution_count": 2,
     "metadata": {},
     "output_type": "execute_result"
    }
   ],
   "source": [
    "u, M, K, p, DegBit, DegStab = var('u, M, K, p, NTS, NTQ')\n",
    "\n",
    "pPrime = 0.5 - 0.5 * (1-2*p)^DegStab\n",
    "mean = DegBit * DegStab * (pPrime)\n",
    "stdDev = sqrt(DegBit * DegStab * pPrime * (1 - pPrime))\n",
    "gaussian = 1 / sqrt(2 * pi) * exp(-0.5 * u^2)\n",
    "errorTerm = 0.56 / sqrt(DegBit * DegStab)\n",
    "\n",
    "# TODO: THIS ERROR TERM IS GIVING ME SOME TROUBLE...\n",
    "eqLarger = errorTerm + (1/u) * gaussian == K / M\n",
    "(solve([eqLarger], u))"
   ]
  },
  {
   "cell_type": "markdown",
   "metadata": {},
   "source": [
    "## Using Sage and Order Statistics to plot expected G_k\n",
    "1. Using the definition of a binomial distribution, get the largest `u` such that Pr[G_k >= u] >= K / N\n",
    "2. Get the expected value of E_i\n",
    "3. Plot the differences etc."
   ]
  },
  {
   "cell_type": "code",
   "execution_count": 4,
   "metadata": {},
   "outputs": [
    {
     "data": {
      "text/plain": [
       "1.87392770388481e-14"
      ]
     },
     "execution_count": 4,
     "metadata": {},
     "output_type": "execute_result"
    }
   ],
   "source": [
    "0.9^300"
   ]
  },
  {
   "cell_type": "code",
   "execution_count": 3,
   "metadata": {},
   "outputs": [
    {
     "name": "stderr",
     "output_type": "stream",
     "text": [
      "<>:39: DeprecationWarning: invalid escape sequence \\d\n",
      "<>:39: DeprecationWarning: invalid escape sequence \\d\n",
      "<ipython-input-3-4a97a56d6bc7>:39: DeprecationWarning: invalid escape sequence \\d\n",
      "  legend_label=f\"({deg_bit}, {deg_stable}) graph, $\\delta = {delta}$, $p = {error_probability}$, $M = {M}$\")\n"
     ]
    },
    {
     "data": {
      "image/png": "[encoded data removed]",
      "text/plain": [
       "Graphics object consisting of 2 graphics primitives"
      ]
     },
     "metadata": {},
     "output_type": "display_data"
    }
   ],
   "source": [
    "# NCDF refers to 1 - cdf here (i.e. Pr[X >= v] for some v)\n",
    "# Note it is inclusive\n",
    "\n",
    "def binomial_pdf(n, p, x):\n",
    "    return binomial(n, x) * p ^ x * (1 - p) ^ (n-x)\n",
    "\n",
    "\n",
    "def binomial_ncdf(n, p, x):\n",
    "    probSum = 0.0\n",
    "    for i in range(x, n + 1):\n",
    "        probSum = probSum + binomial_pdf(n, p, i)\n",
    "    return probSum\n",
    "\n",
    "\n",
    "def binomial_ncdf_inverse(n, p, targetP):\n",
    "    for i in range(1, n):\n",
    "        ncdf_p = binomial_ncdf(n, p, i)\n",
    "        if ncdf_p < targetP:\n",
    "            return i - 1\n",
    "    return n\n",
    "\n",
    "\n",
    "def get_ncdf_inverse_plotter(deg_bit, deg_stable, error_probability, M, scale=1):\n",
    "    n = round(deg_bit * deg_stable * scale)\n",
    "    p = 0.5 - 0.5*(1 - 2 * error_probability) ^ deg_stable\n",
    "    def f(kTop): return binomial_ncdf_inverse(n, p, kTop / M)\n",
    "    return f\n",
    "\n",
    "\n",
    "def get_step_fn_plot(deg_bit, deg_stable, error_probability, M, delta, c, scale=1, domain=(1, 200)):\n",
    "    ncdf_plotter = get_ncdf_inverse_plotter(\n",
    "        deg_bit, deg_stable, error_probability, M, scale)\n",
    "    if scale != 1:\n",
    "        points = [(k, ncdf_plotter(k)) for k in range(*domain)]\n",
    "    else:\n",
    "        points = [(k, (1 - delta) * ncdf_plotter(k)) for k in range(*domain)]\n",
    "    return plot_step_function(points,\n",
    "\t\t \tcolor=c,\n",
    "\t\t\tlegend_label=f\"({deg_bit}, {deg_stable}) graph, $\\delta = {delta}$, $p = {error_probability}$, $M = {M}$\")\n",
    "\n",
    "\n",
    "plot_params = [\n",
    "    (11, 11, 0.02, 10_000, 0.1, 'blue', 1),\n",
    "    (11, 11, 0.02, 10_000, 0.1, 'red', 1-0.2),\n",
    "    # (11, 11, 0.015, 10_000, 0.2, 'red'),\n",
    "    # (11, 11, 0.01, 10_000, 0.2, 'green'),\n",
    "    # (11, 11, 0.005, 10_000),\n",
    "]\n",
    "\n",
    "plots = [get_step_fn_plot(*plot_params[i]) for i in range(0, len(plot_params))]\n",
    "combined = plots[0]\n",
    "for i in range(1, len(plots)):\n",
    "\tcombined = combined + plots[i]\n",
    "\n",
    "\n",
    "combined.axes_labels(['K', 'Expected u\\''])\n",
    "combined.legend(True)\n",
    "\n",
    "combined.show(title='Expected values of u\\'', frame=True, legend_loc=\"upper right\")"
   ]
  },
  {
   "cell_type": "code",
   "execution_count": null,
   "metadata": {},
   "outputs": [],
   "source": []
  },
  {
   "cell_type": "code",
   "execution_count": null,
   "metadata": {},
   "outputs": [],
   "source": []
  },
  {
   "cell_type": "code",
   "execution_count": 4,
   "metadata": {},
   "outputs": [
    {
     "name": "stdout",
     "output_type": "stream",
     "text": [
      "1 0.999999538041735\n",
      "2 0.999999538041735\n",
      "3 0.999999538041735\n",
      "4 0.000000000000000\n",
      "5 0.000000000000000\n",
      "6 0.000000000000000\n",
      "7 0.000000000000000\n",
      "8 0.000000000000000\n",
      "9 0.000000000000000\n",
      "10 0.000000000000000\n",
      "11 0.000000000000000\n",
      "12 0.000000000000000\n",
      "13 0.000000000000000\n",
      "14 0.000000000000000\n",
      "15 0.000000000000000\n",
      "16 0.000000000000000\n",
      "17 0.000000000000000\n",
      "18 0.000000000000000\n",
      "19 0.000000000000000\n"
     ]
    },
    {
     "data": {
      "text/plain": [
       "9.85844059995914e-20"
      ]
     },
     "execution_count": 4,
     "metadata": {},
     "output_type": "execute_result"
    }
   ],
   "source": [
    "degBit = 11\n",
    "degStable = 11\n",
    "delta = 1/6\n",
    "\n",
    "# https://stats.stackexchange.com/questions/394960/variance-of-normal-order-statistics\n",
    "# Variance for quantile\n",
    "def binomial_inverse_variance(N, p, inverse):\n",
    "\treturn p * (1-p) / ((N+1) * (binomial_pdf(N, p, inverse)^2))\n",
    "\n",
    "\n",
    "# M is # of samples\n",
    "def order_stat_expectation_dict_gen(N, p, M):\n",
    "\td = {}\n",
    "\tfor i in range(1, M + 1):\n",
    "\t\t# here k is kth largest value\n",
    "\t\tinverse_ret = binomial_ncdf_inverse(N, p, i / M)\n",
    "\t\t# I think this variance here is wrong\n",
    "\t\tvariance = binomial_inverse_variance(N, p, inverse_ret)\n",
    "\t\td[i] = (inverse_ret, variance)\n",
    "\treturn d\n",
    "\n",
    "## Lower bound via taking advantage of discrete RV\n",
    "def chebyshevLowerBound(V, mu, variance):\n",
    "\tstdDevs = ceil(abs(V + 1 - mu) / sqrt(variance))\n",
    "\tif stdDevs == 0:\n",
    "\t\treturn 0.1\n",
    "\telse:\n",
    "\t\treturn (1 / stdDevs^2)\n",
    "\n",
    "# Uses Chebyshev's bound\n",
    "# Hmmmmmm ok maybe not and this is wrong\n",
    "# Basically you have to find a ~lower bound~ for G\n",
    "# Urrrrrrrrrrrr, we can heuristically use normal distribution bounds here...\n",
    "def pr_indep_G_E(k, G, E, gDict, p_E, n_E, delta):\n",
    "\t(expectedG, varG) = gDict[k]\n",
    "\t# IDK\n",
    "\t#for now just like guess...\n",
    "\t# Reverse calculate the binomial distribution\n",
    "\t# nqp = varG, p = (1-q), \n",
    "\t# Welp... ok this is definitely wrong...\n",
    "\t# p1 = (expectedG - varG) / expectedG\n",
    "\t# # TODO: urrr\n",
    "\t# n1 = round(expectedG / p1)\n",
    "\t# prG = binomial_pdf(n1, p1, G)\n",
    "\tprG = 1 if expectedG == G else 0\n",
    "\t# prG = chebyshevLowerBound(G, expectedG, varG)\n",
    "\tprE = binomial_pdf(n_E, p_E, E)\n",
    "\t# print(p1, n1)\n",
    "\treturn prG * prE\n",
    "\t\n",
    "def calc_pr_indep_G_E_gt_v_for_k(bitDeg, stableDeg, delta, v, k, pError, GDict, nG, nE, pE):\n",
    "\tmaxG = nG\n",
    "\tmaxE = nE\n",
    "\tprGtEqV = 0\n",
    "\tfor e in range(0, maxE ):\n",
    "\t\tfor g in range(0, maxG):\n",
    "\t\t\toptScore = bitDeg * (((1 - delta) * g - e) / ((1 - delta) * (g + e)))\n",
    "\t\t\tif optScore >= v:\n",
    "\t\t\t\tpr = pr_indep_G_E(k, g, e, GDict, pE, nE, delta)\n",
    "\t\t\t\t# print(pr)\n",
    "\t\t\t\tprGtEqV = prGtEqV + pr\n",
    "\n",
    "\treturn prGtEqV\n",
    "\n",
    "\n",
    "# TODO: remove tmp gdict\n",
    "def calc_pr_indep_G_E_gt_v(bitDeg, stableDeg, delta, v, kRange, pError, M, GDict=None):\n",
    "\tpG = 0.5 - 0.5 * (1 - 2 * pError)^stableDeg\n",
    "\tpE = 0.5 + 0.5 * (1 - 2 * pError)^stableDeg - (1 - pError)^stableDeg\n",
    "\tnG = floor((1 - delta) * bitDeg * stableDeg)\n",
    "\tnE = floor((1 - delta) * bitDeg * stableDeg)\n",
    "\n",
    "\tGDict = GDict if GDict != None else order_stat_expectation_dict_gen(bitDeg * stableDeg, pG, M)\n",
    "\terror_prob = 1\n",
    "\tfor k in range(*kRange):\n",
    "\t\tsuccess_prob = calc_pr_indep_G_E_gt_v_for_k(bitDeg, stableDeg, delta, v, k, pError, GDict, nG, nE, pE)\n",
    "\t\tprint(k, success_prob)\n",
    "\t\terror_prob = error_prob * (1 - success_prob)\n",
    "\treturn (error_prob, GDict)\n",
    "\n",
    "(error_prob, GDict) = calc_pr_indep_G_E_gt_v(11, 11, 0.3, 1/3, (1, 20), 0.00001, 300, GDict=None)\n",
    "error_prob"
   ]
  },
  {
   "cell_type": "code",
   "execution_count": 5,
   "metadata": {},
   "outputs": [
    {
     "data": {
      "text/plain": [
       "9.85844059995914e-20"
      ]
     },
     "execution_count": 5,
     "metadata": {},
     "output_type": "execute_result"
    }
   ],
   "source": [
    "error_prob"
   ]
  },
  {
   "cell_type": "code",
   "execution_count": 6,
   "metadata": {},
   "outputs": [],
   "source": [
    "## NOTES\n",
    "# It may be best to not use G' and rather just use G until you get to the fraction. \n",
    "GDict = None"
   ]
  },
  {
   "cell_type": "code",
   "execution_count": 7,
   "metadata": {},
   "outputs": [
    {
     "ename": "IndentationError",
     "evalue": "expected an indented block (<ipython-input-7-43f11b5b21d4>, line 59)",
     "output_type": "error",
     "traceback": [
      "\u001b[0;36m  File \u001b[0;32m\"<ipython-input-7-43f11b5b21d4>\"\u001b[0;36m, line \u001b[0;32m59\u001b[0m\n\u001b[0;31m    else:\u001b[0m\n\u001b[0m    ^\u001b[0m\n\u001b[0;31mIndentationError\u001b[0m\u001b[0;31m:\u001b[0m expected an indented block\n"
     ]
    }
   ],
   "source": [
    "degBit = 11\n",
    "degStable = 11\n",
    "delta = 1/6\n",
    "\n",
    "\n",
    "def binomial_pdf(n, p, x):\n",
    "    return binomial(n, x) * p ^ x * (1 - p) ^ (n-x)\n",
    "\n",
    "\n",
    "def binomial_ncdf(n, p, x):\n",
    "    probSum = 0.0\n",
    "    for i in range(x, n + 1):\n",
    "        probSum = probSum + binomial_pdf(n, p, i)\n",
    "    return probSum\n",
    "\n",
    "\n",
    "def binomial_ncdf_inverse(n, p, targetP):\n",
    "    for i in range(1, n):\n",
    "        ncdf_p = binomial_ncdf(n, p, i)\n",
    "        if ncdf_p < targetP:\n",
    "            return i - 1\n",
    "    return n\n",
    "\n",
    "\n",
    "# https://stats.stackexchange.com/questions/394960/variance-of-normal-order-statistics\n",
    "# Variance for quantile\n",
    "# TODO: verify\n",
    "def binomial_inverse_variance(N, p, inverse):\n",
    "\treturn p * (1-p) / ((N+2) * (binomial_pdf(N, p, inverse)^2))\n",
    "\n",
    "\n",
    "# M is # of samples\n",
    "def order_stat_expectation_dict_gen(N, p, M):\n",
    "\td = {}\n",
    "\tfor i in range(1, M + 1):\n",
    "\t\t# here k is kth largest value\n",
    "\t\tinverse_ret = binomial_ncdf_inverse(N, p, i / M)\n",
    "\t\t# I think this variance here is wrong\n",
    "\t\tvariance = binomial_inverse_variance(N, p, inverse_ret)\n",
    "\t\td[i] = (inverse_ret, variance)\n",
    "\treturn d\n",
    "\n",
    "## Lower bound via taking advantage of discrete RV\n",
    "# where V < mu\n",
    "def chebyshevLowerBound(V, mu, variance):\n",
    "\treturn min(variance / (mu - V)^2, 1)\n",
    "\n",
    "## Upper bound via taking advantage of discrete RV\n",
    "# where V > mu and we are looking for Pr[mu < V]\n",
    "def chebyshevUpperBound(V, mu, variance):\n",
    "\treturn 1 - min(variance / (mu - V)^2, 0)\n",
    "\n",
    "\n",
    "\n",
    "def pr_G_error_given_E(E, degBit, degStable, delta, expectedG, varianceG):\n",
    "\t# The following is assuming that G' >= max(1, G - delta * degBit * (degStable  - 1))\n",
    "\tG_Prime_lb = max(floor(expectedG - delta * degBit * (degStable - 1)), 1)\n",
    "\tif G_Prime_lb == 1:\n",
    "\t\t# TODO:\n",
    "\t\tpass\n",
    "\telse:\n",
    "\t\t# G_for_error = \n",
    "\t\tpass\n",
    "\t\t# TODO: \n",
    "\n",
    "\n",
    "\t(3 * degBit^2 * degStable * delta + 3 * degBit * E + E - delta * E - 3 * degBit^2 * delta) / (3 * degBit - 1 + delta)\n",
    "\tprint(G_for_error)\n",
    "\n",
    "\t# The following is assuming that G' >= (1-delta)G\n",
    "\t# G_for_error = (2 * E - delta * E) / ((3 * degBit - 1 - delta) * (1 - delta))\n",
    "\t# Note: this gives an upper bound for error\n",
    "\t# TODO: equalling expectation here\n",
    "\tif G_for_error == expectedG:\n",
    "\t\treturn 0.1\n",
    "\telif G_for_error > expectedG:\n",
    "\t\treturn chebyshevUpperBound(G_for_error, expectedG, varianceG)\n",
    "\telse:\n",
    "\t\treturn chebyshevLowerBound(G_for_error, expectedG, varianceG)\n",
    "\n",
    "def pr_G_and_E_error(n_E, p_E, E, degBit, delta, expectedG, varianceG):\n",
    "\tprE = binomial_pdf(n_E, p_E, E)\n",
    "\treturn prE * pr_G_error_given_E(E, degBit, degStable, delta, expectedG, varianceG)\n",
    "\n",
    "\n",
    "def calc_pr_indep_G_E_lt_v_for_k(degBit, stableDeg, delta, v, k, pError, GDict, nG, nE, pE):\n",
    "\tmaxG = nG\n",
    "\tmaxE = nE\n",
    "\tprLtV = 0\n",
    "\tfor e in range(0, maxE):\n",
    "\t\t(gExpected, gVariance) = GDict[k]\n",
    "\n",
    "\t\t# TODO: get the right probability of G equaling its expected value here...\n",
    "\t\t# This should just be the probability of G being its expected value\n",
    "\t\t# This because if G does equal 0, you have already run though all the possible\n",
    "\t\t# places you can correct an error (i.e. you ain't finding an error here)\n",
    "\t\t# print(gExpected)\n",
    "\t\tif gExpected == 0:\n",
    "\t\t\tprLtV = prLtV * 0.1\t\n",
    "\t\telse:\n",
    "\t\t\tprLtV = prLtV + pr_G_and_E_error(nE, pE, e, degBit, delta, gExpected, gVariance)\n",
    "\treturn prLtV\n",
    "\n",
    "def calc_pr_indep_G_E_lt_v(bitDeg, stableDeg, delta, v, kRange, pError, M, GDict=None):\n",
    "\tpG = 0.5 - 0.5 * (1 - 2 * pError)^stableDeg\n",
    "\tpE = 0.5 + 0.5 * (1 - 2 * pError)^stableDeg - (1 - pError)^stableDeg\n",
    "\tnG = floor(bitDeg * stableDeg)\n",
    "\tnE = floor((1 - delta) * bitDeg * stableDeg)\n",
    "\n",
    "\tGDict = GDict if GDict != None else order_stat_expectation_dict_gen(bitDeg * stableDeg, pG, M)\n",
    "\terror_prob = 1\n",
    "\tfor k in range(*kRange):\n",
    "\t\ttmp = calc_pr_indep_G_E_lt_v_for_k(bitDeg, stableDeg, delta, v, k, pError, GDict, nG, nE, pE)\n",
    "\t\terror_prob = error_prob * tmp\n",
    "\treturn (error_prob, GDict)\n",
    "\n",
    "GDict = None\n",
    "(error_prob, GDict) = calc_pr_indep_G_E_lt_v(degBit, degStable, delta, 1/6, (1, 200), 0.01, 500, GDict=None)\n",
    "# ew... you are going to have to show some stuff for how a decreasing \"probability\" as time goes on is reversed by an increase in M. etc\n",
    "error_prob\n",
    "# 500, 1 error, 1.86836309906158e-617\n",
    "# 5,000, 1 error, 3.26516680338833e-479"
   ]
  },
  {
   "cell_type": "code",
   "execution_count": null,
   "metadata": {},
   "outputs": [
    {
     "name": "stdout",
     "output_type": "stream",
     "text": [
      "nErrors 49 pr fails 4.93747168413434e-247\n",
      "nErrors 48 pr fails 1.58287446960753e-246\n",
      "nErrors 47 pr fails 5.86746794240222e-246\n",
      "nErrors 46 pr fails 1.25026434549238e-245\n",
      "nErrors 45 pr fails 3.15771458040473e-245\n",
      "nErrors 44 pr fails 1.13628966881429e-244\n",
      "nErrors 43 pr fails 1.57163182332147e-244\n",
      "nErrors 42 pr fails 7.76389328040216e-244\n",
      "nErrors 41 pr fails 1.65384195878890e-243\n",
      "nErrors 40 pr fails 1.23035502305385e-242\n",
      "nErrors 39 pr fails 2.41775188529079e-242\n",
      "nErrors 38 pr fails 3.87937154088683e-242\n",
      "nErrors 37 pr fails 1.33214756020222e-241\n",
      "nErrors 36 pr fails 4.75019890274844e-241\n",
      "nErrors 35 pr fails 1.49972029239942e-240\n",
      "nErrors 34 pr fails 5.73029410319272e-240\n",
      "nErrors 33 pr fails 7.56718976538981e-240\n",
      "nErrors 32 pr fails 1.90182673801884e-239\n",
      "nErrors 31 pr fails 5.80065463353447e-238\n",
      "nErrors 30 pr fails 9.53758704703329e-238\n",
      "nErrors 29 pr fails 1.43676860537945e-237\n"
     ]
    }
   ],
   "source": [
    "K = 100\n",
    "p = 0.05\n",
    "M = 1_000\n",
    "\n",
    "pr_fails = 0\n",
    "# Hmmmm, you can probably just make a plot where p ~ 1/M\n",
    "nErrors = round(p * M)\n",
    "while nErrors != 0:\n",
    "\t(err, _) = calc_pr_indep_G_E_lt_v(degBit, degStable, delta, 1/3, (1, K), p, M, GDict=None)\n",
    "\tpr_fails = pr_fails + err\n",
    "\tnErrors = nErrors - 1\n",
    "\tp = nErrors / M\n",
    "\tprint(\"nErrors\", nErrors, \"pr fails\", pr_fails)\n",
    "pr_fails"
   ]
  },
  {
   "cell_type": "code",
   "execution_count": null,
   "metadata": {},
   "outputs": [
    {
     "data": {
      "text/plain": [
       "-2"
      ]
     },
     "execution_count": 18,
     "metadata": {},
     "output_type": "execute_result"
    }
   ],
   "source": [
    "floor(-1.2)"
   ]
  }
 ],
 "metadata": {
  "kernelspec": {
   "display_name": "SageMath 9.2",
   "language": "sage",
   "name": "sagemath"
  },
  "language_info": {
   "codemirror_mode": {
    "name": "ipython",
    "version": 3
   },
   "file_extension": ".py",
   "mimetype": "text/x-python",
   "name": "sage",
   "nbconvert_exporter": "python",
   "pygments_lexer": "ipython3",
   "version": "3.9.7"
  },
  "orig_nbformat": 4
 },
 "nbformat": 4,
 "nbformat_minor": 2
}
