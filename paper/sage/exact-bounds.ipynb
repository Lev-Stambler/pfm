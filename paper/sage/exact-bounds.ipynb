{
 "cells": [
  {
   "cell_type": "code",
   "execution_count": 1,
   "metadata": {},
   "outputs": [],
   "source": [
    "## Find the exact bounds for \\alpha_i for a variance normalized (not mean) distr\n",
    "p, n, u, K = var('p, n, u, K')\n",
    "# TODO: FIX ME\n",
    "errorTerm = 0.56 / (sqrt(p) * (1-p) ^ (1.5) * sqrt(n))\n",
    "mean = 0#n*p / sqrt(p * (1 - p) * n)\n",
    "guassian = 1 / sqrt(2 * pi) * e ^ (-0.5 * (u - mean)^2)\n",
    "# eqSmaller = -errorTerm + (1/u + 1/u^3) * guassian <= K / n\n",
    "eqLarger = errorTerm + (1/u) * guassian == K / n\n",
    "view((solve([eqLarger], u)))"
   ]
  },
  {
   "cell_type": "code",
   "execution_count": 5,
   "metadata": {},
   "outputs": [],
   "source": [
    "\n",
    "# Denormalize\n",
    "view(uSimUpperBound * sqrt(n * p * (1-p)) + n * p)"
   ]
  },
  {
   "cell_type": "code",
   "execution_count": 1,
   "metadata": {},
   "outputs": [],
   "source": []
  },
  {
   "cell_type": "markdown",
   "metadata": {},
   "source": [
    "## The actual thing"
   ]
  },
  {
   "cell_type": "code",
   "execution_count": 2,
   "metadata": {},
   "outputs": [],
   "source": [
    "u, M, K, p, DegBit, DegStab = var('u, M, K, p, NTS, NTQ')\n",
    "\n",
    "pPrime = 0.5 - 0.5 * (1-2*p)^DegStab\n",
    "mean = DegBit * DegStab * (pPrime)\n",
    "stdDev = sqrt(DegBit * DegStab * pPrime * (1 - pPrime))\n",
    "gaussian = 1 / sqrt(2 * pi) * exp(-0.5 * u^2)\n",
    "errorTerm = 0.56 / sqrt(DegBit * DegStab)\n",
    "\n",
    "# TODO: THIS ERROR TERM IS GIVING ME SOME TROUBLE...\n",
    "eqLarger = errorTerm + (1/u) * gaussian == K / M\n",
    "view(solve([eqLarger], u))"
   ]
  },
  {
   "cell_type": "markdown",
   "metadata": {},
   "source": [
    "## Using Sage and Order Statistics to plot expected G_k\n",
    "1. Using the definition of a binomial distribution, get the largest `u` such that Pr[G_k >= u] >= K / N\n",
    "2. Get the expected value of E_i\n",
    "3. Plot the differences etc."
   ]
  },
  {
   "cell_type": "code",
   "execution_count": null,
   "metadata": {},
   "outputs": [],
   "source": []
  },
  {
   "cell_type": "code",
   "execution_count": 3,
   "metadata": {},
   "outputs": [
    {
     "name": "stderr",
     "output_type": "stream",
     "text": [
      "<>:36: DeprecationWarning: invalid escape sequence \\d\n",
      "<>:36: DeprecationWarning: invalid escape sequence \\d\n",
      "<ipython-input-3-e68f98f67b8e>:36: DeprecationWarning: invalid escape sequence \\d\n",
      "  legend_label=f\"({deg_bit}, {deg_stable}) graph, $\\delta = {delta}$, $p = {error_probability}$, $M = {M}$\")\n"
     ]
    },
    {
     "data": {
      "image/png": "[encoded data removed]",
      "text/plain": [
       "Graphics object consisting of 3 graphics primitives"
      ]
     },
     "metadata": {},
     "output_type": "display_data"
    }
   ],
   "source": [
    "# NCDF refers to 1 - cdf here (i.e. Pr[X >= v] for some v)\n",
    "# Note it is inclusive\n",
    "\n",
    "def binomial_pdf(n, p, x):\n",
    "    return binomial(n, x) * p ^ x * (1 - p) ^ (n-x)\n",
    "\n",
    "\n",
    "def binomial_ncdf(n, p, x):\n",
    "    probSum = 0.0\n",
    "    for i in range(x, n + 1):\n",
    "        probSum = probSum + binomial_pdf(n, p, i)\n",
    "    return probSum\n",
    "\n",
    "\n",
    "def binomial_ncdf_inverse(n, p, targetP):\n",
    "    for i in range(1, n):\n",
    "        ncdf_p = binomial_ncdf(n, p, i)\n",
    "        if ncdf_p < targetP:\n",
    "            return i - 1\n",
    "    return n\n",
    "\n",
    "\n",
    "def get_ncdf_inverse_plotter(deg_bit, deg_stable, error_probability, M):\n",
    "    n = deg_bit * deg_stable\n",
    "    p = 0.5 - 0.5*(1 - 2 * error_probability) ^ deg_stable\n",
    "    def f(kTop): return binomial_ncdf_inverse(n, p, kTop / M)\n",
    "    return f\n",
    "\n",
    "\n",
    "def get_step_fn_plot(deg_bit, deg_stable, error_probability, M, delta, c, domain=(1, 200)):\n",
    "    ncdf_plotter = get_ncdf_inverse_plotter(\n",
    "        deg_bit, deg_stable, error_probability, M)\n",
    "    points = [(k, (1 - delta) * ncdf_plotter(k)) for k in range(*domain)]\n",
    "    return plot_step_function(points,\n",
    "\t\t \tcolor=c,\n",
    "\t\t\tlegend_label=f\"({deg_bit}, {deg_stable}) graph, $\\delta = {delta}$, $p = {error_probability}$, $M = {M}$\")\n",
    "\n",
    "\n",
    "plot_params = [\n",
    "    (11, 11, 0.02, 10_000, 0.2, 'blue'),\n",
    "    (11, 11, 0.015, 10_000, 0.2, 'red'),\n",
    "    (11, 11, 0.01, 10_000, 0.2, 'green'),\n",
    "    # (11, 11, 0.005, 10_000),\n",
    "]\n",
    "\n",
    "plots = [get_step_fn_plot(*plot_params[i]) for i in range(0, len(plot_params))]\n",
    "combined = plots[0]\n",
    "for i in range(1, len(plots)):\n",
    "\tcombined = combined + plots[i]\n",
    "\n",
    "\n",
    "combined.axes_labels(['K', 'Expected u\\''])\n",
    "combined.legend(True)\n",
    "\n",
    "combined.show(title='Expected values of u\\'', frame=True, legend_loc=\"upper right\")"
   ]
  },
  {
   "cell_type": "code",
   "execution_count": 56,
   "metadata": {},
   "outputs": [
    {
     "ename": "NameError",
     "evalue": "name 'nG' is not defined",
     "output_type": "error",
     "traceback": [
      "\u001b[0;31m---------------------------------------------------------------------------\u001b[0m",
      "\u001b[0;31mNameError\u001b[0m                                 Traceback (most recent call last)",
      "\u001b[0;32m<ipython-input-56-bc6b18409ea5>\u001b[0m in \u001b[0;36m<module>\u001b[0;34m\u001b[0m\n\u001b[0;32m----> 1\u001b[0;31m \u001b[0mTmpGDict\u001b[0m \u001b[0;34m=\u001b[0m \u001b[0morder_stat_expectation_dict_gen\u001b[0m\u001b[0;34m(\u001b[0m\u001b[0mnG\u001b[0m\u001b[0;34m,\u001b[0m \u001b[0mpG\u001b[0m\u001b[0;34m)\u001b[0m\u001b[0;34m\u001b[0m\u001b[0;34m\u001b[0m\u001b[0m\n\u001b[0m",
      "\u001b[0;31mNameError\u001b[0m: name 'nG' is not defined"
     ]
    }
   ],
   "source": []
  },
  {
   "cell_type": "code",
   "execution_count": null,
   "metadata": {},
   "outputs": [],
   "source": []
  },
  {
   "cell_type": "code",
   "execution_count": 10,
   "metadata": {},
   "outputs": [
    {
     "name": "stdout",
     "output_type": "stream",
     "text": [
      "1 0.999999538041735\n",
      "2 0.999999538041735\n",
      "3 0.999999538041735\n",
      "4 0.000000000000000\n",
      "5 0.000000000000000\n",
      "6 0.000000000000000\n",
      "7 0.000000000000000\n",
      "8 0.000000000000000\n",
      "9 0.000000000000000\n",
      "10 0.000000000000000\n",
      "11 0.000000000000000\n",
      "12 0.000000000000000\n",
      "13 0.000000000000000\n",
      "14 0.000000000000000\n",
      "15 0.000000000000000\n",
      "16 0.000000000000000\n",
      "17 0.000000000000000\n",
      "18 0.000000000000000\n",
      "19 0.000000000000000\n"
     ]
    },
    {
     "data": {
      "text/plain": [
       "9.85844059995914e-20"
      ]
     },
     "execution_count": 10,
     "metadata": {},
     "output_type": "execute_result"
    }
   ],
   "source": [
    "degBit = 11\n",
    "degStable = 11\n",
    "delta = 1/6\n",
    "\n",
    "# https://stats.stackexchange.com/questions/394960/variance-of-normal-order-statistics\n",
    "# Variance for quantile\n",
    "def binomial_inverse_variance(N, p, inverse):\n",
    "\treturn p * (1-p) / ((N+1) * (binomial_pdf(N, p, inverse)^2))\n",
    "\n",
    "\n",
    "# M is # of samples\n",
    "def order_stat_expectation_dict_gen(N, p, M):\n",
    "\td = {}\n",
    "\tfor i in range(1, M + 1):\n",
    "\t\t# here k is kth largest value\n",
    "\t\tinverse_ret = binomial_ncdf_inverse(N, p, i / M)\n",
    "\t\t# I think this variance here is wrong\n",
    "\t\tvariance = binomial_inverse_variance(N, p, inverse_ret)\n",
    "\t\td[i] = (inverse_ret, variance)\n",
    "\treturn d\n",
    "\n",
    "## Lower bound via taking advantage of discrete RV\n",
    "def chebyshevLowerBound(V, mu, variance):\n",
    "\tstdDevs = ceil(abs(V + 1 - mu) / sqrt(variance))\n",
    "\tif stdDevs == 0:\n",
    "\t\treturn 0.1\n",
    "\telse:\n",
    "\t\treturn (1 / stdDevs^2)\n",
    "\n",
    "# Uses Chebyshev's bound\n",
    "# Hmmmmmm ok maybe not and this is wrong\n",
    "# Basically you have to find a ~lower bound~ for G\n",
    "# Urrrrrrrrrrrr, we can heuristically use normal distribution bounds here...\n",
    "def pr_indep_G_E(k, G, E, gDict, p_E, n_E, delta):\n",
    "\t(expectedG, varG) = gDict[k]\n",
    "\t# IDK\n",
    "\t#for now just like guess...\n",
    "\t# Reverse calculate the binomial distribution\n",
    "\t# nqp = varG, p = (1-q), \n",
    "\t# Welp... ok this is definitely wrong...\n",
    "\t# p1 = (expectedG - varG) / expectedG\n",
    "\t# # TODO: urrr\n",
    "\t# n1 = round(expectedG / p1)\n",
    "\t# prG = binomial_pdf(n1, p1, G)\n",
    "\tprG = 1 if expectedG == G else 0\n",
    "\t# prG = chebyshevLowerBound(G, expectedG, varG)\n",
    "\tprE = binomial_pdf(n_E, p_E, E)\n",
    "\t# print(p1, n1)\n",
    "\treturn prG * prE\n",
    "\t\n",
    "def calc_pr_indep_G_E_gt_v_for_k(bitDeg, stableDeg, delta, v, k, pError, GDict, nG, nE, pE):\n",
    "\tmaxG = nG\n",
    "\tmaxE = nE\n",
    "\tprGtEqV = 0\n",
    "\tfor e in range(0, maxE ):\n",
    "\t\tfor g in range(0, maxG):\n",
    "\t\t\toptScore = bitDeg * (((1 - delta) * g - e) / ((1 - delta) * (g + e)))\n",
    "\t\t\tif optScore >= v:\n",
    "\t\t\t\tpr = pr_indep_G_E(k, g, e, GDict, pE, nE, delta)\n",
    "\t\t\t\t# print(pr)\n",
    "\t\t\t\tprGtEqV = prGtEqV + pr\n",
    "\n",
    "\treturn prGtEqV\n",
    "\n",
    "\n",
    "# TODO: remove tmp gdict\n",
    "def calc_pr_indep_G_E_gt_v(bitDeg, stableDeg, delta, v, kRange, pError, M, GDict=None):\n",
    "\tpG = 0.5 - 0.5 * (1 - 2 * pError)^stableDeg\n",
    "\tpE = 0.5 + 0.5 * (1 - 2 * pError)^stableDeg - (1 - pError)^stableDeg\n",
    "\tnG = floor((1 - delta) * bitDeg * stableDeg)\n",
    "\tnE = floor((1 - delta) * bitDeg * stableDeg)\n",
    "\n",
    "\tGDict = GDict if GDict != None else order_stat_expectation_dict_gen(bitDeg * stableDeg, pG, M)\n",
    "\terror_prob = 1\n",
    "\tfor k in range(*kRange):\n",
    "\t\tsuccess_prob = calc_pr_indep_G_E_gt_v_for_k(bitDeg, stableDeg, delta, v, k, pError, GDict, nG, nE, pE)\n",
    "\t\tprint(k, success_prob)\n",
    "\t\terror_prob = error_prob * (1 - success_prob)\n",
    "\treturn (error_prob, GDict)\n",
    "\n",
    "(error_prob, GDict) = calc_pr_indep_G_E_gt_v(11, 11, 0.3, 1/3, (1, 20), 0.00001, 300, GDict=None)\n",
    "error_prob"
   ]
  },
  {
   "cell_type": "code",
   "execution_count": 14,
   "metadata": {},
   "outputs": [
    {
     "data": {
      "text/plain": [
       "3.94590246247620e-25"
      ]
     },
     "execution_count": 14,
     "metadata": {},
     "output_type": "execute_result"
    }
   ],
   "source": [
    "error_prob"
   ]
  },
  {
   "cell_type": "code",
   "execution_count": 4,
   "metadata": {},
   "outputs": [],
   "source": [
    "## NOTES\n",
    "# It may be best to not use G' and rather just use G until you get to the fraction. \n",
    "GDict = None"
   ]
  }
 ],
 "metadata": {
  "kernelspec": {
   "display_name": "SageMath 9.2",
   "language": "sage",
   "name": "sagemath"
  },
  "language_info": {
   "codemirror_mode": {
    "name": "ipython",
    "version": 3
   },
   "file_extension": ".py",
   "mimetype": "text/x-python",
   "name": "python",
   "nbconvert_exporter": "python",
   "pygments_lexer": "ipython3",
   "version": "3.9.7"
  },
  "orig_nbformat": 4
 },
 "nbformat": 4,
 "nbformat_minor": 2
}
