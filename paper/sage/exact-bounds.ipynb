{
 "cells": [
  {
   "cell_type": "code",
   "execution_count": 2,
   "metadata": {},
   "outputs": [
    {
     "data": {
      "text/plain": [
       "[u == 25*n^(3/2)*sqrt(p)*(-p + 1)^(3/2)*e^(-1/2*u^2)/(25*sqrt(2)*sqrt(pi)*K*sqrt(n)*sqrt(p)*(-p + 1)^(3/2) - 14*sqrt(2)*sqrt(pi)*n)]"
      ]
     },
     "execution_count": 2,
     "metadata": {},
     "output_type": "execute_result"
    }
   ],
   "source": [
    "## Find the exact bounds for \\alpha_i for a variance normalized (not mean) distr\n",
    "p, n, u, K = var('p, n, u, K')\n",
    "errorTerm = 0.56 / (sqrt(p) * (1-p) ^ (1.5) * sqrt(n))\n",
    "mean = 0#n*p / sqrt(p * (1 - p) * n)\n",
    "guassian = 1 / sqrt(2 * pi) * e ^ (-0.5 * (u - mean)^2)\n",
    "# eqSmaller = -errorTerm + (1/u + 1/u^3) * guassian <= K / n\n",
    "eqLarger = errorTerm + (1/u) * guassian == K / n\n",
    "((solve([eqLarger], u)))"
   ]
  },
  {
   "cell_type": "code",
   "execution_count": 29,
   "metadata": {},
   "outputs": [
    {
     "data": {
      "text/plain": [
       "17.1330927888582 + 4.36020786370807*I"
      ]
     },
     "execution_count": 29,
     "metadata": {},
     "output_type": "execute_result"
    }
   ],
   "source": [
    "uSimUpperBound = sqrt(2 * ln(25*n^(3/2)*sqrt(p)*(-p + 1)^(3/2)/(25*sqrt(2)*sqrt(pi)*K*sqrt(n)*sqrt(p)*(-p + 1)^(3/2) - 14*sqrt(2)*sqrt(pi)*n)))\n",
    "\n",
    "# Denormalize\n",
    "(uSimUpperBound * sqrt(n * p * (1-p)) + n * p)(n=1000, p = 0.01, K = 1).n() "
   ]
  }
 ],
 "metadata": {
  "kernelspec": {
   "display_name": "SageMath 9.2",
   "language": "sage",
   "name": "sagemath"
  },
  "language_info": {
   "codemirror_mode": {
    "name": "ipython",
    "version": 3
   },
   "file_extension": ".py",
   "mimetype": "text/x-python",
   "name": "python",
   "nbconvert_exporter": "python",
   "pygments_lexer": "ipython3",
   "version": "3.9.7"
  },
  "orig_nbformat": 4
 },
 "nbformat": 4,
 "nbformat_minor": 2
}
